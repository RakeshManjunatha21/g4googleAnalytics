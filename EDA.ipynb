{
 "cells": [
  {
   "cell_type": "code",
   "execution_count": null,
   "id": "1a3a440a",
   "metadata": {},
   "outputs": [],
   "source": []
  },
  {
   "cell_type": "code",
   "execution_count": 6,
   "id": "255ae50c",
   "metadata": {},
   "outputs": [
    {
     "name": "stdout",
     "output_type": "stream",
     "text": [
      "Filename: active_users.xlsx (Excel)\n",
      "Columns: ['month', 'sessionMedium', 'averageSessionDuration', 'activeUsers']\n",
      "\n",
      "Filename: All_Pages.xlsx (Excel)\n",
      "Columns: ['pagePath', 'pageTitle', 'screenPageViews', 'activeUsers', 'averageSessionDuration', 'bounceRate', 'engagementRate', 'userEngagementDuration']\n",
      "\n",
      "Filename: Auction_insights(Compare_metrics_2025.01.01-2025.03.26).csv (CSV)\n",
      "Columns: ['Advertiser Name', 'Impression share', 'Impression share (Comparison)', 'Outranking share', 'Outranking share (Comparison)', 'Overlap rate', 'Overlap rate (Comparison)', 'Top of page rate', 'Top of page rate (Comparison)', 'Position above rate', 'Position above rate (Comparison)']\n",
      "\n",
      "Filename: Auction_insights(Metric_over_time_2025.01.01-2025.03.26).csv (CSV)\n",
      "Columns: ['Advertiser Name']\n",
      "\n",
      "Filename: Biggest_changes(2025.01.01-2025.03.26_compared_to_2024.10.08-2024.12.31).csv (CSV)\n",
      "Columns: ['Ad Group Name', 'Campaign Name', 'Cost', 'Cost (Comparison)', 'Clicks', 'Clicks (Comparison)', 'Interactions', 'Interactions (Comparison)']\n",
      "\n",
      "Filename: Campaigns(2025.01.01-2025.03.26).csv (CSV)\n",
      "Columns: ['Campaign Name', 'Campaign Group Name', 'Campaign Status', 'Cost', 'Clicks', 'CTR']\n",
      "\n",
      "Filename: Custom_Report.xlsx (Excel)\n",
      "Columns: ['pagePath', 'deviceCategory', 'country', 'screenPageViews', 'averageSessionDuration', 'bounceRate', 'sessionConversionRate']\n",
      "\n",
      "Filename: Day_&_hour(Day_2025.01.01-2025.03.26).csv (CSV)\n",
      "Columns: ['Day', 'Impressions']\n",
      "\n",
      "Filename: Day_&_hour(Day_Hour_2025.01.01-2025.03.26).csv (CSV)\n",
      "Columns: ['Day', 'Start Hour', 'Impressions']\n",
      "\n",
      "Filename: Day_&_hour(Hour_2025.01.01-2025.03.26).csv (CSV)\n",
      "Columns: ['Start Hour', 'Impressions']\n",
      "\n",
      "Filename: Demographics(Age_2025.01.01-2025.03.26).csv (CSV)\n",
      "Columns: ['Age Range', 'Impressions', 'Percent of known total']\n",
      "\n",
      "Filename: Demographics(Gender_2025.01.01-2025.03.26).csv (CSV)\n",
      "Columns: ['Gender', 'Impressions', 'Percent of known total']\n",
      "\n",
      "Filename: Demographics(Gender_Age_2025.01.01-2025.03.26).csv (CSV)\n",
      "Columns: ['Gender', 'Age Range', 'Impressions', 'Percent of known total']\n",
      "\n",
      "Filename: Devices(2025.01.01-2025.03.26).csv (CSV)\n",
      "Columns: ['Device', 'Cost', 'Impressions', 'Clicks']\n",
      "\n",
      "Filename: GA4_python_output.xlsx (Excel)\n",
      "Columns: ['Unnamed: 0', 'month', 'sessionMedium', 'averageSessionDuration', 'activeUsers']\n",
      "\n",
      "Filename: Geo_Location.xlsx (Excel)\n",
      "Columns: ['country', 'region', 'sessions', 'bounceRate', 'averageSessionDuration', 'eventsPerSession', 'newUsers', 'userConversionRate']\n",
      "\n",
      "Filename: Landing_Pages.xlsx (Excel)\n",
      "Columns: ['landingPage', 'sessions', 'bounceRate', 'averageSessionDuration', 'sessionConversionRate']\n",
      "\n",
      "Filename: monhtly_users_pivot.xlsx (Excel)\n",
      "Columns: ['month', '(none)', '(not set)', 'Article', 'Banner', 'Blog side banner', 'BuiltIn', 'Button', 'Home button', 'Homepage', 'LinkedIn', \"LinkedIn Oracle_Nahdi's Retail Operations\", 'Linkedin', 'Manage IT in the Times of Recession Part 1', 'Organic', 'Referral', 'Search Ad', 'Social Media', 'Social Organic Post', 'Sponsor', 'Top_', 'Top_Threads', 'abm', 'abm_linkedin', 'ad1', 'ads', 'banner', 'banner_ad', 'blog', 'blog post', 'blog-banner', 'blog-side-banner', 'blog_post', 'blogpost_internal_link', 'cc nativebanner', 'cloud_blog', 'cloud_linkedin', 'content_syndication', 'cpc', 'cta_banner', 'custom button', 'da', 'data-analytics', 'data_analytics_jul_24', 'email', 'email_campaign', 'fintechnews.sg', 'google', 'google/cpc', 'google_ad_performance', 'homepage-banner', 'hyperautomation', 'it-companies-usa', 'itsm_search_ads', 'landing-page', 'left-banner', 'linkedin', 'linkedin-ads', 'linkedin_BFSwebsite', 'linkedin_DIblog', 'linkedin_oracleblog', 'linkedin_retailblog', 'lp', 'manage it in the times of recession part 1', 'newsletter', 'official_blog', 'oracle pulse sm 24', 'oracle sm 24', 'oracle sm 25', 'organic', 'organic pulse', 'organic social', 'organic_social', 'paid_social', 'paidsocial', 'profile', 'referral', 'referral_profile', 'retail', 'retail sm 24', 'retail sm 25', 'rollworks', 'rpa', 'side_cta_banner', 'sidebanner', 'social', 'social organic', 'social-blogpost', 'software-engineering-blog-side-banner', 'solution_page', 'sth_listing', 'sth_mts_testing', 'sth_performance_testing', 'sth_qa_listing', 'sth_test_automation', 'sth_testing_consulting', 'success_stories', 'suggested_content', 'testimonial-video', 'testing_social_share', 'top_threads', 'twitter', 'web-blog', 'web_blog', 'website', 'website newspage', 'website-page', 'whitepaper', 'whitepaper-landing-page', 'youtube-insurance']\n",
      "\n",
      "Filename: Networks(2025.01.01-2025.03.26).csv (CSV)\n",
      "Columns: ['Network', 'Clicks', 'Cost', 'Avg. CPC']\n",
      "\n",
      "Filename: Optimization_score(2025.01.01-2025.03.26).csv (CSV)\n",
      "Columns: ['Optimization Score', 'Campaign Name']\n",
      "\n",
      "Filename: Performance report.xlsx (Excel)\n",
      "Columns: ['Performance report', 'Unnamed: 1', 'Unnamed: 2', 'Unnamed: 3', 'Unnamed: 4', 'Unnamed: 5', 'Unnamed: 6', 'Unnamed: 7', 'Unnamed: 8', 'Unnamed: 9', 'Unnamed: 10', 'Unnamed: 11', 'Unnamed: 12', 'Unnamed: 13', 'Unnamed: 14', 'Unnamed: 15']\n",
      "\n",
      "Filename: Searches(Search_2025.01.01-2025.03.26).csv (CSV)\n",
      "Columns: ['Search', 'Cost', 'Clicks', 'Impressions', 'Conversions']\n",
      "\n",
      "Filename: Searches(Word_2025.01.01-2025.03.26).csv (CSV)\n",
      "Columns: ['Word', 'Cost', 'Clicks', 'Impressions', 'Conversions', 'Top Containing Queries']\n",
      "\n",
      "Filename: Search_keywords(2025.01.01-2025.03.26).csv (CSV)\n",
      "Columns: ['Search Keyword', 'Match type', 'Criterion Status', 'Campaign Status', 'Ad Group Status', 'Cost', 'Clicks', 'CTR']\n",
      "\n"
     ]
    },
    {
     "name": "stderr",
     "output_type": "stream",
     "text": [
      "c:\\Users\\rock2\\.conda\\envs\\streamlit_env\\lib\\site-packages\\openpyxl\\styles\\stylesheet.py:226: UserWarning: Workbook contains no default style, apply openpyxl's default\n",
      "  warn(\"Workbook contains no default style, apply openpyxl's default\")\n"
     ]
    },
    {
     "name": "stdout",
     "output_type": "stream",
     "text": [
      "Filename: Site_Speed.xlsx (Excel)\n",
      "Columns: ['pagePath', 'averagePurchaseRevenue', 'bounceRate', 'screenPageViews']\n",
      "\n",
      "Filename: Time_series(2025.01.01-2025.03.26).csv (CSV)\n",
      "Columns: ['Date', 'Clicks', 'Impressions', 'Avg. CPC', 'Cost']\n",
      "\n"
     ]
    }
   ],
   "source": [
    "import os\n",
    "import pandas as pd\n",
    "\n",
    "# Set the path to your folder containing Excel files\n",
    "folder_path = os.getcwd()  # Current working directory\n",
    "\n",
    "# List all files in the folder\n",
    "files = os.listdir(folder_path)\n",
    "\n",
    "# # Filter only Excel files (both .xls and .xlsx)\n",
    "# excel_files = [f for f in files if f.endswith('.xls') or f.endswith('.xlsx')]\n",
    "\n",
    "for file in files:\n",
    "    file_path = os.path.join(folder_path, file)\n",
    "\n",
    "    try:\n",
    "        if file.endswith('.csv'):\n",
    "            df = pd.read_csv(file_path)\n",
    "            print(f\"Filename: {file} (CSV)\")\n",
    "            print(f\"Columns: {list(df.columns)}\\n\")\n",
    "        \n",
    "        elif file.endswith('.xls') or file.endswith('.xlsx'):\n",
    "            df = pd.read_excel(file_path)\n",
    "            print(f\"Filename: {file} (Excel)\")\n",
    "            print(f\"Columns: {list(df.columns)}\\n\")\n",
    "\n",
    "    except Exception as e:\n",
    "        print(f\"Failed to read {file}. Error: {e}\")\n"
   ]
  },
  {
   "cell_type": "code",
   "execution_count": null,
   "id": "4db97cf1",
   "metadata": {},
   "outputs": [],
   "source": []
  }
 ],
 "metadata": {
  "kernelspec": {
   "display_name": "streamlit_env",
   "language": "python",
   "name": "python3"
  },
  "language_info": {
   "codemirror_mode": {
    "name": "ipython",
    "version": 3
   },
   "file_extension": ".py",
   "mimetype": "text/x-python",
   "name": "python",
   "nbconvert_exporter": "python",
   "pygments_lexer": "ipython3",
   "version": "3.9.12"
  }
 },
 "nbformat": 4,
 "nbformat_minor": 5
}
